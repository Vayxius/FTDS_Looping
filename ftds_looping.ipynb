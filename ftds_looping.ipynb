{
 "cells": [
  {
   "cell_type": "markdown",
   "metadata": {},
   "source": [
    "# FTDS Looping"
   ]
  },
  {
   "cell_type": "markdown",
   "metadata": {},
   "source": [
    "_Full time data science assignment ini dibuat guna mengevaluasi pembelajaran yang sudah dipelajari sebelumnya khususnya pada konsep **Looping**_"
   ]
  },
  {
   "cell_type": "markdown",
   "metadata": {},
   "source": [
    "## Aassignment Instructions"
   ]
  },
  {
   "cell_type": "markdown",
   "metadata": {},
   "source": [
    "- Buatlah sebuah list dengan value berupa:"
   ]
  },
  {
   "cell_type": "markdown",
   "metadata": {},
   "source": [
    "```py\n",
    "numbers = [951, 402, 984, 651, 360, 69, 408, 319, 601, 485,\n",
    "           980, 507, 725, 547, 544, 615, 83, 165, 141, 501,\n",
    "           263, 617, 865, 575, 219, 390, 984, 592, 236, 105,\n",
    "           942, 941, 386, 462, 47, 418, 907, 344, 236, 375,\n",
    "           823, 566, 597, 978, 328, 615, 953, 345, 399, 162,\n",
    "           758, 219, 918, 237, 412, 566, 826, 248, 866, 950,\n",
    "           626, 949]\n",
    "```"
   ]
  },
  {
   "cell_type": "markdown",
   "metadata": {},
   "source": [
    "- Loop dan print semua angka genap dari list angka diatas dengan urutan yang sama.\n",
    "- Jangan mencetak angka apapun yang muncul setelah angka ```918``` berdasarkan posisi angka tersebut pada list diatas.\n",
    "- Tampilkan pesan ```Done``` setelah looping berakhir."
   ]
  },
  {
   "cell_type": "markdown",
   "metadata": {},
   "source": [
    "## Assignment Objectives"
   ]
  },
  {
   "cell_type": "markdown",
   "metadata": {},
   "source": [
    "Full time data science assignment ini dibuat guna mengevaluasi konsep `looping` sebagai berikut:\n",
    "- Mampu membuat looping dengan menggunakan `for` / `while`.\n",
    "- Mampu mengimplementasikan `if statement` didalam looping.\n",
    "- Mampu mengimplementasikan `break` dan `continue` statement didalam looping.\n",
    "- Mampu mengimplementasikan `else statement` didalam looping."
   ]
  },
  {
   "cell_type": "markdown",
   "metadata": {},
   "source": [
    "## Working Area"
   ]
  },
  {
   "cell_type": "code",
   "execution_count": 1,
   "metadata": {},
   "outputs": [],
   "source": [
    "numbers = [951, 402, 984, 651, 360, 69, 408, 319, 601, 485,\n",
    "           980, 507, 725, 547, 544, 615, 83, 165, 141, 501,\n",
    "           263, 617, 865, 575, 219, 390, 984, 592, 236, 105,\n",
    "           942, 941, 386, 462, 47, 418, 907, 344, 236, 375,\n",
    "           823, 566, 597, 978, 328, 615, 953, 345, 399, 162,\n",
    "           758, 219, 918, 237, 412, 566, 826, 248, 866, 950,\n",
    "           626, 949]"
   ]
  },
  {
   "cell_type": "markdown",
   "metadata": {},
   "source": [
    "Inisialisasi list dengan nama variable `numbers` yang berisi kumpulan angka."
   ]
  },
  {
   "cell_type": "markdown",
   "metadata": {},
   "source": [
    "### While Loop"
   ]
  },
  {
   "cell_type": "code",
   "execution_count": 2,
   "metadata": {},
   "outputs": [
    {
     "name": "stdout",
     "output_type": "stream",
     "text": [
      "402\n",
      "984\n",
      "360\n",
      "408\n",
      "980\n",
      "544\n",
      "390\n",
      "984\n",
      "592\n",
      "236\n",
      "942\n",
      "386\n",
      "462\n",
      "418\n",
      "344\n",
      "236\n",
      "566\n",
      "978\n",
      "328\n",
      "162\n",
      "758\n",
      "918\n",
      "Done\n"
     ]
    }
   ],
   "source": [
    "index = 0\n",
    "while index < len(numbers):\n",
    "    if numbers[index] % 2 == 0:\n",
    "        if numbers[index] == 918:\n",
    "            print(numbers[index])\n",
    "            break\n",
    "        else:\n",
    "            print(numbers[index])\n",
    "    index+=1\n",
    "print(\"Done\")    \n"
   ]
  },
  {
   "cell_type": "markdown",
   "metadata": {},
   "source": [
    "Membuat fungsi looping menggunakan `while loop` dimana setiap angka genap akan ditampilkan sampai angka `918` muncul, setelah angka `918` muncul looping akan dihentikan dan program menampilkan kata `Done`. "
   ]
  },
  {
   "cell_type": "markdown",
   "metadata": {},
   "source": [
    "### For Loop"
   ]
  },
  {
   "cell_type": "code",
   "execution_count": 3,
   "metadata": {},
   "outputs": [
    {
     "name": "stdout",
     "output_type": "stream",
     "text": [
      "402\n",
      "984\n",
      "360\n",
      "408\n",
      "980\n",
      "544\n",
      "390\n",
      "984\n",
      "592\n",
      "236\n",
      "942\n",
      "386\n",
      "462\n",
      "418\n",
      "344\n",
      "236\n",
      "566\n",
      "978\n",
      "328\n",
      "162\n",
      "758\n",
      "918\n",
      "Done\n"
     ]
    }
   ],
   "source": [
    "for x in numbers:\n",
    "    if (x % 2 == 0) :\n",
    "        if (x == 918):\n",
    "            print(x)\n",
    "            break\n",
    "        else:\n",
    "            print(x)\n",
    "print(\"Done\")"
   ]
  },
  {
   "cell_type": "markdown",
   "metadata": {},
   "source": [
    "Membuat fungsi looping menggunakan `for loop` dimana setiap angka genap akan ditampilkan sampai angka `918` muncul, setelah angka `918` muncul looping akan dihentikan dan program menampilkan kata `Done`. "
   ]
  }
 ],
 "metadata": {
  "kernelspec": {
   "display_name": "Python 3.10.4 64-bit",
   "language": "python",
   "name": "python3"
  },
  "language_info": {
   "codemirror_mode": {
    "name": "ipython",
    "version": 3
   },
   "file_extension": ".py",
   "mimetype": "text/x-python",
   "name": "python",
   "nbconvert_exporter": "python",
   "pygments_lexer": "ipython3",
   "version": "3.10.4"
  },
  "orig_nbformat": 4,
  "vscode": {
   "interpreter": {
    "hash": "27f6fea6f47ae512550f0b8facdbd035a93e1dd89633f7bf2dd00a2502c71d0d"
   }
  }
 },
 "nbformat": 4,
 "nbformat_minor": 2
}
